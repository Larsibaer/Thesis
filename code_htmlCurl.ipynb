{
 "cells": [
  {
   "cell_type": "code",
   "execution_count": 10,
   "metadata": {},
   "outputs": [],
   "source": [
    "import pandas as pd\n",
    "import webbrowser\n",
    "import time\n",
    "from selenium import webdriver\n",
    "\n",
    "df = pd.read_csv('Data/data_new.csv')\n",
    "#create new Dataframe to store processed data\n",
    "df_check = df.filter(['sys_id','number'], axis=1)\n",
    "# URL template\n",
    "url_template = 'https://kiwi.unico.ch/nav_to.do?uri=sn_customerservice_case.do?sys_id={}%26sysparm_view=case'\n",
    "count = 1\n",
    "for index, row in df.iterrows():\n",
    "    # Format the URL with the sys_id from the DataFrame\n",
    "    url = url_template.format(row['sys_id'])\n",
    "    webbrowser.open(url,0,False)\n",
    "    time.sleep(5)\n",
    "    if count % 10 == 0:\n",
    "        time.sleep(6)\n",
    "    # remove the sys_id from the DataFrame\n",
    "    df_check = df_check.drop(index)\n",
    "    count += 1\n"
   ]
  }
 ],
 "metadata": {
  "kernelspec": {
   "display_name": "Python 3",
   "language": "python",
   "name": "python3"
  },
  "language_info": {
   "codemirror_mode": {
    "name": "ipython",
    "version": 3
   },
   "file_extension": ".py",
   "mimetype": "text/x-python",
   "name": "python",
   "nbconvert_exporter": "python",
   "pygments_lexer": "ipython3",
   "version": "3.9.18"
  }
 },
 "nbformat": 4,
 "nbformat_minor": 2
}
